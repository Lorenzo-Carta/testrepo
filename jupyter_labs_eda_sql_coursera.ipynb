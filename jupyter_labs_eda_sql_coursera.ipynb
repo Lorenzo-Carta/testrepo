{
  "nbformat": 4,
  "nbformat_minor": 0,
  "metadata": {
    "colab": {
      "name": "jupyter-labs-eda-sql-coursera.ipynb",
      "provenance": [],
      "include_colab_link": true
    },
    "kernelspec": {
      "display_name": "Python 3",
      "language": "python",
      "name": "python3"
    },
    "language_info": {
      "codemirror_mode": {
        "name": "ipython",
        "version": 3
      },
      "file_extension": ".py",
      "mimetype": "text/x-python",
      "name": "python",
      "nbconvert_exporter": "python",
      "pygments_lexer": "ipython3",
      "version": "3.8.8"
    }
  },
  "cells": [
    {
      "cell_type": "markdown",
      "metadata": {
        "id": "view-in-github",
        "colab_type": "text"
      },
      "source": [
        "<a href=\"https://colab.research.google.com/github/Lorenzo-Carta/testrepo/blob/main/jupyter_labs_eda_sql_coursera.ipynb\" target=\"_parent\"><img src=\"https://colab.research.google.com/assets/colab-badge.svg\" alt=\"Open In Colab\"/></a>"
      ]
    },
    {
      "cell_type": "markdown",
      "metadata": {
        "id": "Fg2QeO6A9EIS"
      },
      "source": [
        "<center>\n",
        "    <img src=\"https://gitlab.com/ibm/skills-network/courses/placeholder101/-/raw/master/labs/module%201/images/IDSNlogo.png\"  width=\"300\" alt=\"cognitiveclass.ai logo\"  />\n",
        "</center>\n",
        "\n",
        "<h1 align=center><font size = 5>Assignment: SQL Notebook for Peer Assignment</font></h1>\n",
        "\n",
        "Estimated time needed: **60** minutes.\n",
        "\n",
        "## Introduction\n",
        "\n",
        "Using this Python notebook you will:\n",
        "\n",
        "1.  Understand the Spacex DataSet\n",
        "2.  Load the dataset  into the corresponding table in a Db2 database\n",
        "3.  Execute SQL queries to answer assignment questions\n"
      ]
    },
    {
      "cell_type": "markdown",
      "metadata": {
        "id": "vQQLKjRK9EIX"
      },
      "source": [
        "## Overview of the DataSet\n",
        "\n",
        "SpaceX has gained worldwide attention for a series of historic milestones.\n",
        "\n",
        "It is the only private company ever to return a spacecraft from low-earth orbit, which it first accomplished in December 2010.\n",
        "SpaceX advertises Falcon 9 rocket launches on its website with a cost of 62 million dollars wheras other providers cost upward of 165 million dollars each, much of the savings is because Space X can reuse the first stage.\n",
        "\n",
        "Therefore if we can determine if the first stage will land, we can determine the cost of a launch.\n",
        "\n",
        "This information can be used if an alternate company wants to bid against SpaceX for a rocket launch.\n",
        "\n",
        "This dataset includes a record for each payload carried during a SpaceX mission into outer space.\n"
      ]
    },
    {
      "cell_type": "markdown",
      "metadata": {
        "id": "XNNr5MFq9EIY"
      },
      "source": [
        "### Download the datasets\n",
        "\n",
        "This assignment requires you to load the spacex dataset.\n",
        "\n",
        "In many cases the dataset to be analyzed is available as a .CSV (comma separated values) file, perhaps on the internet. Click on the link below to download and save the dataset (.CSV file):\n",
        "\n",
        "<a href=\"https://cf-courses-data.s3.us.cloud-object-storage.appdomain.cloud/IBM-DS0321EN-SkillsNetwork/labs/module_2/data/Spacex.csv?utm_medium=Exinfluencer&utm_source=Exinfluencer&utm_content=000026UJ&utm_term=10006555&utm_id=NA-SkillsNetwork-Channel-SkillsNetworkCoursesIBMDS0321ENSkillsNetwork26802033-2021-01-01\" target=\"_blank\">Spacex DataSet</a>\n"
      ]
    },
    {
      "cell_type": "markdown",
      "metadata": {
        "id": "MjTF-r6j9EIY"
      },
      "source": [
        "### Store the dataset in database table\n",
        "\n",
        "**it is highly recommended to manually load the table using the database console LOAD tool in DB2**.\n",
        "\n",
        "<img src = \"https://cf-courses-data.s3.us.cloud-object-storage.appdomain.cloud/IBM-DS0321EN-SkillsNetwork/labs/module_2/images/spacexload.png\">\n",
        "\n",
        "Now open the Db2 console, open the LOAD tool, Select / Drag the .CSV file for the  dataset, Next create a New Table, and then follow the steps on-screen instructions to load the data. Name the new table as follows:\n",
        "\n",
        "**SPACEXDATASET**\n",
        "\n",
        "**Follow these steps while using old DB2 UI which is having Open Console Screen**\n",
        "\n",
        "**Note:While loading Spacex dataset, ensure that detect datatypes is disabled. Later click on the pencil icon(edit option).**\n",
        "\n",
        "1.  Change the Date Format by manually typing DD-MM-YYYY and timestamp format as DD-MM-YYYY HH\\:MM:SS.\n",
        "\n",
        "    Here you should place the cursor at Date field and manually type as DD-MM-YYYY.\n",
        "\n",
        "2.  Change the PAYLOAD_MASS\\_\\_KG\\_  datatype  to INTEGER.\n",
        "\n",
        "<img src = \"https://cf-courses-data.s3.us.cloud-object-storage.appdomain.cloud/IBM-DS0321EN-SkillsNetwork/labs/module_2/images/spacexload2.png\">\n"
      ]
    },
    {
      "cell_type": "markdown",
      "metadata": {
        "id": "73-eM65W9EIZ"
      },
      "source": [
        "**Changes to be considered when having DB2 instance with the new UI having Go to UI screen**\n",
        "\n",
        "*   Refer to this insruction in this <a href=\"https://cf-courses-data.s3.us.cloud-object-storage.appdomain.cloud/IBMDeveloperSkillsNetwork-DB0201EN-SkillsNetwork/labs/Labs_Coursera_V5/labs/Lab%20-%20Sign%20up%20for%20IBM%20Cloud%20-%20Create%20Db2%20service%20instance%20-%20Get%20started%20with%20the%20Db2%20console/instructional-labs.md.html?utm_medium=Exinfluencer&utm_source=Exinfluencer&utm_content=000026UJ&utm_term=10006555&utm_id=NA-SkillsNetwork-Channel-SkillsNetworkCoursesIBMDS0321ENSkillsNetwork26802033-2021-01-01\">link</a> for viewing  the new  Go to UI screen.\n",
        "\n",
        "*   Later click on **Data link(below SQL)**  in the Go to UI screen  and click on **Load Data** tab.\n",
        "\n",
        "*   Later browse for the downloaded spacex file.\n",
        "\n",
        "<img src=\"https://cf-courses-data.s3.us.cloud-object-storage.appdomain.cloud/IBM-DS0321EN-SkillsNetwork/labs/module_2/images/browsefile.png\" width=\"800\"/>\n",
        "\n",
        "*   Once done select the schema andload the file.\n",
        "\n",
        " <img src=\"https://cf-courses-data.s3.us.cloud-object-storage.appdomain.cloud/IBM-DS0321EN-SkillsNetwork/labs/module_2/images/spacexload3.png\" width=\"800\"/>\n"
      ]
    },
    {
      "cell_type": "code",
      "metadata": {
        "colab": {
          "base_uri": "https://localhost:8080/"
        },
        "id": "AlHyYynD9EIa",
        "outputId": "847bc089-53af-4c2b-d435-85dd31631b4d"
      },
      "source": [
        "!pip install sqlalchemy==1.3.9\n",
        "!pip install ibm_db_sa\n",
        "!pip install ipython-sql\n",
        "import ibm_db\n",
        "import pandas as pd\n"
      ],
      "execution_count": 1,
      "outputs": [
        {
          "output_type": "stream",
          "name": "stdout",
          "text": [
            "Requirement already satisfied: sqlalchemy==1.3.9 in /usr/local/lib/python3.7/dist-packages (1.3.9)\n",
            "Requirement already satisfied: ibm_db_sa in /usr/local/lib/python3.7/dist-packages (0.3.7)\n",
            "Requirement already satisfied: sqlalchemy>=0.7.3 in /usr/local/lib/python3.7/dist-packages (from ibm_db_sa) (1.3.9)\n",
            "Requirement already satisfied: ibm-db>=2.0.0 in /usr/local/lib/python3.7/dist-packages (from ibm_db_sa) (3.1.0)\n",
            "Requirement already satisfied: ipython-sql in /usr/local/lib/python3.7/dist-packages (0.3.9)\n",
            "Requirement already satisfied: sqlparse in /usr/local/lib/python3.7/dist-packages (from ipython-sql) (0.4.2)\n",
            "Requirement already satisfied: sqlalchemy>=0.6.7 in /usr/local/lib/python3.7/dist-packages (from ipython-sql) (1.3.9)\n",
            "Requirement already satisfied: ipython>=1.0 in /usr/local/lib/python3.7/dist-packages (from ipython-sql) (5.5.0)\n",
            "Requirement already satisfied: six in /usr/local/lib/python3.7/dist-packages (from ipython-sql) (1.15.0)\n",
            "Requirement already satisfied: prettytable in /usr/local/lib/python3.7/dist-packages (from ipython-sql) (2.4.0)\n",
            "Requirement already satisfied: ipython-genutils>=0.1.0 in /usr/local/lib/python3.7/dist-packages (from ipython-sql) (0.2.0)\n",
            "Requirement already satisfied: prompt-toolkit<2.0.0,>=1.0.4 in /usr/local/lib/python3.7/dist-packages (from ipython>=1.0->ipython-sql) (1.0.18)\n",
            "Requirement already satisfied: decorator in /usr/local/lib/python3.7/dist-packages (from ipython>=1.0->ipython-sql) (4.4.2)\n",
            "Requirement already satisfied: simplegeneric>0.8 in /usr/local/lib/python3.7/dist-packages (from ipython>=1.0->ipython-sql) (0.8.1)\n",
            "Requirement already satisfied: traitlets>=4.2 in /usr/local/lib/python3.7/dist-packages (from ipython>=1.0->ipython-sql) (5.1.1)\n",
            "Requirement already satisfied: pygments in /usr/local/lib/python3.7/dist-packages (from ipython>=1.0->ipython-sql) (2.6.1)\n",
            "Requirement already satisfied: pexpect in /usr/local/lib/python3.7/dist-packages (from ipython>=1.0->ipython-sql) (4.8.0)\n",
            "Requirement already satisfied: setuptools>=18.5 in /usr/local/lib/python3.7/dist-packages (from ipython>=1.0->ipython-sql) (57.4.0)\n",
            "Requirement already satisfied: pickleshare in /usr/local/lib/python3.7/dist-packages (from ipython>=1.0->ipython-sql) (0.7.5)\n",
            "Requirement already satisfied: wcwidth in /usr/local/lib/python3.7/dist-packages (from prompt-toolkit<2.0.0,>=1.0.4->ipython>=1.0->ipython-sql) (0.2.5)\n",
            "Requirement already satisfied: ptyprocess>=0.5 in /usr/local/lib/python3.7/dist-packages (from pexpect->ipython>=1.0->ipython-sql) (0.7.0)\n",
            "Requirement already satisfied: importlib-metadata in /usr/local/lib/python3.7/dist-packages (from prettytable->ipython-sql) (4.8.2)\n",
            "Requirement already satisfied: zipp>=0.5 in /usr/local/lib/python3.7/dist-packages (from importlib-metadata->prettytable->ipython-sql) (3.6.0)\n",
            "Requirement already satisfied: typing-extensions>=3.6.4 in /usr/local/lib/python3.7/dist-packages (from importlib-metadata->prettytable->ipython-sql) (3.10.0.2)\n"
          ]
        }
      ]
    },
    {
      "cell_type": "code",
      "metadata": {
        "colab": {
          "base_uri": "https://localhost:8080/"
        },
        "id": "2DoPnlY4W_0a",
        "outputId": "5bf8a394-9cad-44c2-bd9b-e6f937ae0457"
      },
      "source": [
        "from google.colab import drive\n",
        "drive.mount(\"/content/drive\")\n"
      ],
      "execution_count": 2,
      "outputs": [
        {
          "output_type": "stream",
          "name": "stdout",
          "text": [
            "Drive already mounted at /content/drive; to attempt to forcibly remount, call drive.mount(\"/content/drive\", force_remount=True).\n"
          ]
        }
      ]
    },
    {
      "cell_type": "code",
      "metadata": {
        "colab": {
          "base_uri": "https://localhost:8080/",
          "height": 206
        },
        "id": "6kHuYjWVHQla",
        "outputId": "26be2518-9484-4359-e537-f4ad61d2f339"
      },
      "source": [
        "path = \"/content/Spacex.csv\"\n",
        "df=pd.read_csv(path)\n",
        "df.head()"
      ],
      "execution_count": 3,
      "outputs": [
        {
          "output_type": "execute_result",
          "data": {
            "text/html": [
              "<div>\n",
              "<style scoped>\n",
              "    .dataframe tbody tr th:only-of-type {\n",
              "        vertical-align: middle;\n",
              "    }\n",
              "\n",
              "    .dataframe tbody tr th {\n",
              "        vertical-align: top;\n",
              "    }\n",
              "\n",
              "    .dataframe thead th {\n",
              "        text-align: right;\n",
              "    }\n",
              "</style>\n",
              "<table border=\"1\" class=\"dataframe\">\n",
              "  <thead>\n",
              "    <tr style=\"text-align: right;\">\n",
              "      <th></th>\n",
              "      <th>Date</th>\n",
              "      <th>Time (UTC)</th>\n",
              "      <th>Booster_Version</th>\n",
              "      <th>Launch_Site</th>\n",
              "      <th>Payload</th>\n",
              "      <th>PAYLOAD_MASS__KG_</th>\n",
              "      <th>Orbit</th>\n",
              "      <th>Customer</th>\n",
              "      <th>Mission_Outcome</th>\n",
              "      <th>Landing _Outcome</th>\n",
              "    </tr>\n",
              "  </thead>\n",
              "  <tbody>\n",
              "    <tr>\n",
              "      <th>0</th>\n",
              "      <td>04-06-2010</td>\n",
              "      <td>18:45:00</td>\n",
              "      <td>F9 v1.0  B0003</td>\n",
              "      <td>CCAFS LC-40</td>\n",
              "      <td>Dragon Spacecraft Qualification Unit</td>\n",
              "      <td>0</td>\n",
              "      <td>LEO</td>\n",
              "      <td>SpaceX</td>\n",
              "      <td>Success</td>\n",
              "      <td>Failure (parachute)</td>\n",
              "    </tr>\n",
              "    <tr>\n",
              "      <th>1</th>\n",
              "      <td>08-12-2010</td>\n",
              "      <td>15:43:00</td>\n",
              "      <td>F9 v1.0  B0004</td>\n",
              "      <td>CCAFS LC-40</td>\n",
              "      <td>Dragon demo flight C1, two CubeSats, barrel of...</td>\n",
              "      <td>0</td>\n",
              "      <td>LEO (ISS)</td>\n",
              "      <td>NASA (COTS) NRO</td>\n",
              "      <td>Success</td>\n",
              "      <td>Failure (parachute)</td>\n",
              "    </tr>\n",
              "    <tr>\n",
              "      <th>2</th>\n",
              "      <td>22-05-2012</td>\n",
              "      <td>07:44:00</td>\n",
              "      <td>F9 v1.0  B0005</td>\n",
              "      <td>CCAFS LC-40</td>\n",
              "      <td>Dragon demo flight C2</td>\n",
              "      <td>525</td>\n",
              "      <td>LEO (ISS)</td>\n",
              "      <td>NASA (COTS)</td>\n",
              "      <td>Success</td>\n",
              "      <td>No attempt</td>\n",
              "    </tr>\n",
              "    <tr>\n",
              "      <th>3</th>\n",
              "      <td>08-10-2012</td>\n",
              "      <td>00:35:00</td>\n",
              "      <td>F9 v1.0  B0006</td>\n",
              "      <td>CCAFS LC-40</td>\n",
              "      <td>SpaceX CRS-1</td>\n",
              "      <td>500</td>\n",
              "      <td>LEO (ISS)</td>\n",
              "      <td>NASA (CRS)</td>\n",
              "      <td>Success</td>\n",
              "      <td>No attempt</td>\n",
              "    </tr>\n",
              "    <tr>\n",
              "      <th>4</th>\n",
              "      <td>01-03-2013</td>\n",
              "      <td>15:10:00</td>\n",
              "      <td>F9 v1.0  B0007</td>\n",
              "      <td>CCAFS LC-40</td>\n",
              "      <td>SpaceX CRS-2</td>\n",
              "      <td>677</td>\n",
              "      <td>LEO (ISS)</td>\n",
              "      <td>NASA (CRS)</td>\n",
              "      <td>Success</td>\n",
              "      <td>No attempt</td>\n",
              "    </tr>\n",
              "  </tbody>\n",
              "</table>\n",
              "</div>"
            ],
            "text/plain": [
              "         Date Time (UTC)  ... Mission_Outcome     Landing _Outcome\n",
              "0  04-06-2010   18:45:00  ...         Success  Failure (parachute)\n",
              "1  08-12-2010   15:43:00  ...         Success  Failure (parachute)\n",
              "2  22-05-2012   07:44:00  ...         Success           No attempt\n",
              "3  08-10-2012   00:35:00  ...         Success           No attempt\n",
              "4  01-03-2013   15:10:00  ...         Success           No attempt\n",
              "\n",
              "[5 rows x 10 columns]"
            ]
          },
          "metadata": {},
          "execution_count": 3
        }
      ]
    },
    {
      "cell_type": "code",
      "metadata": {
        "id": "a_vVuhPQHyvs"
      },
      "source": [
        "from google.colab import drive\n",
        "drive.mount('/content/drive')"
      ],
      "execution_count": null,
      "outputs": []
    },
    {
      "cell_type": "markdown",
      "metadata": {
        "id": "FWn2u0o69EIb"
      },
      "source": [
        "### Connect to the database\n",
        "\n",
        "Let us first load the SQL extension and establish a connection with the database\n"
      ]
    },
    {
      "cell_type": "code",
      "metadata": {
        "id": "u09FMdjd9EIc"
      },
      "source": [
        "%load_ext sql\n"
      ],
      "execution_count": 5,
      "outputs": []
    },
    {
      "cell_type": "markdown",
      "metadata": {
        "id": "FslB6Ge59EId"
      },
      "source": [
        "**DB2 magic in case of old UI service credentials.**\n",
        "\n",
        "In the next cell enter your db2 connection string. Recall you created Service Credentials for your Db2 instance before. From the **uri** field of your Db2 service credentials copy everything after db2:// (except the double quote at the end) and paste it in the cell below after ibm_db_sa://\n",
        "\n",
        "<img src =\"https://cf-courses-data.s3.us.cloud-object-storage.appdomain.cloud/IBMDeveloperSkillsNetwork-DB0201EN-SkillsNetwork/labs/FinalModule_edX/images/URI.jpg\">\n",
        "\n",
        "in the following format\n",
        "\n",
        "**%sql ibm_db_sa://my-username:my-password\\@my-hostname:my-port/my-db-name**\n",
        "\n",
        "**DB2 magic in case of new UI service credentials.**\n",
        "\n",
        "<img src =\"https://cf-courses-data.s3.us.cloud-object-storage.appdomain.cloud/IBM-DS0321EN-SkillsNetwork/labs/module_2/images/servicecredentials.png\" width=600>  \n",
        "\n",
        "*   Use the following format.\n",
        "\n",
        "*   Add security=SSL at the end\n",
        "\n",
        "**%sql ibm_db_sa://my-username:my-password\\@my-hostname:my-port/my-db-name?security=SSL**\n"
      ]
    },
    {
      "cell_type": "code",
      "metadata": {
        "id": "VPeqrqk-9EIe"
      },
      "source": [
        ""
      ],
      "execution_count": null,
      "outputs": []
    },
    {
      "cell_type": "code",
      "metadata": {
        "colab": {
          "base_uri": "https://localhost:8080/"
        },
        "id": "xq9-myz-9EIe",
        "outputId": "d08ed187-8b10-4fa7-9eed-5bd1ac04807f"
      },
      "source": [
        "\n"
      ],
      "execution_count": null,
      "outputs": [
        {
          "name": "stdout",
          "output_type": "stream",
          "text": [
            "DRIVER={IBM DB2 ODBC DRIVER};DATABASE=bludb;HOSTNAME=0c77d6f2-5da9-48a9-81f8-86b520b87518.bs2io90l08kqb1od8lcg.databases.appdomain.cloud;PORT=31198;PROTOCOL=TCPIP;UID=qsm03487;PWD=4cShKBB3Wsm7i8Ea;SECURITY=SSL;\n"
          ]
        }
      ]
    },
    {
      "cell_type": "code",
      "metadata": {
        "colab": {
          "base_uri": "https://localhost:8080/"
        },
        "id": "Ywfo-Niq9EIe",
        "outputId": "3a2f9654-1cb9-4a8b-ddac-15bc21b4e963"
      },
      "source": [
        "%sql ibm_db_sa://db2 -u qsm03487 -p 4cShKBB3Wsm7i8Ea --ssl --sslCAFile 1dd14d0c-1b52-4f63-a606-53ecba28771d --authenticationDatabase admin --host 0c77d6f2-5da9-48a9-81f8-86b520b87518.bs2io90l08kqb1od8lcg.databases.appdomain.cloud:31198\n"
      ],
      "execution_count": 4,
      "outputs": [
        {
          "output_type": "stream",
          "name": "stderr",
          "text": [
            "UsageError: Line magic function `%sql` not found.\n"
          ]
        }
      ]
    },
    {
      "cell_type": "code",
      "metadata": {
        "colab": {
          "base_uri": "https://localhost:8080/",
          "height": 36
        },
        "id": "qT8jJcgdVrWY",
        "outputId": "bc6610d9-2bfa-42b5-da65-58bdff377525"
      },
      "source": [
        "%sql  ibm_db_sa://khp70687:kO64aZAgNIRqRhwS@55fbc997-9266-4331-afd3-888b05e734c0.bs2io90l08kqb1od8lcg.databases.appdomain.cloud:31929/bludb?security=SSL"
      ],
      "execution_count": 8,
      "outputs": [
        {
          "output_type": "execute_result",
          "data": {
            "application/vnd.google.colaboratory.intrinsic+json": {
              "type": "string"
            },
            "text/plain": [
              "'Connected: khp70687@bludb'"
            ]
          },
          "metadata": {},
          "execution_count": 8
        }
      ]
    },
    {
      "cell_type": "markdown",
      "metadata": {
        "id": "6wNbKfYd9EIf"
      },
      "source": [
        "## Tasks\n",
        "\n",
        "Now write and execute SQL queries to solve the assignment tasks.\n",
        "\n",
        "### Task 1\n",
        "\n",
        "##### Display the names of the unique launch sites  in the space mission\n"
      ]
    },
    {
      "cell_type": "code",
      "metadata": {
        "colab": {
          "base_uri": "https://localhost:8080/",
          "height": 156
        },
        "id": "N-IE3lV89EIf",
        "outputId": "da38fa4c-0191-487c-8f18-cdddc315ce72"
      },
      "source": [
        "%sql select distinct LAUNCH_SITE from SPACEXTBL"
      ],
      "execution_count": 9,
      "outputs": [
        {
          "output_type": "stream",
          "name": "stdout",
          "text": [
            " * ibm_db_sa://khp70687:***@55fbc997-9266-4331-afd3-888b05e734c0.bs2io90l08kqb1od8lcg.databases.appdomain.cloud:31929/bludb\n",
            "Done.\n"
          ]
        },
        {
          "output_type": "execute_result",
          "data": {
            "text/html": [
              "<table>\n",
              "    <thead>\n",
              "        <tr>\n",
              "            <th>launch_site</th>\n",
              "        </tr>\n",
              "    </thead>\n",
              "    <tbody>\n",
              "        <tr>\n",
              "            <td>CCAFS LC-40</td>\n",
              "        </tr>\n",
              "        <tr>\n",
              "            <td>CCAFS SLC-40</td>\n",
              "        </tr>\n",
              "        <tr>\n",
              "            <td>KSC LC-39A</td>\n",
              "        </tr>\n",
              "        <tr>\n",
              "            <td>VAFB SLC-4E</td>\n",
              "        </tr>\n",
              "    </tbody>\n",
              "</table>"
            ],
            "text/plain": [
              "[('CCAFS LC-40',), ('CCAFS SLC-40',), ('KSC LC-39A',), ('VAFB SLC-4E',)]"
            ]
          },
          "metadata": {},
          "execution_count": 9
        }
      ]
    },
    {
      "cell_type": "markdown",
      "metadata": {
        "id": "_ALkLA269EIg"
      },
      "source": [
        "### Task 2\n",
        "\n",
        "##### Display 5 records where launch sites begin with the string 'CCA'\n"
      ]
    },
    {
      "cell_type": "code",
      "metadata": {
        "id": "qyq2eLwQ9EIg",
        "colab": {
          "base_uri": "https://localhost:8080/",
          "height": 176
        },
        "outputId": "80242456-3307-458e-941c-52f3f48a1034"
      },
      "source": [
        "%sql SELECT * FROM SPACEXTBL WHERE LAUNCH_SITE like 'CCA%' LIMIT 5"
      ],
      "execution_count": 14,
      "outputs": [
        {
          "output_type": "stream",
          "name": "stdout",
          "text": [
            " * ibm_db_sa://khp70687:***@55fbc997-9266-4331-afd3-888b05e734c0.bs2io90l08kqb1od8lcg.databases.appdomain.cloud:31929/bludb\n",
            "Done.\n"
          ]
        },
        {
          "output_type": "execute_result",
          "data": {
            "text/html": [
              "<table>\n",
              "    <thead>\n",
              "        <tr>\n",
              "            <th>DATE</th>\n",
              "            <th>time__utc_</th>\n",
              "            <th>booster_version</th>\n",
              "            <th>launch_site</th>\n",
              "            <th>payload</th>\n",
              "            <th>payload_mass__kg_</th>\n",
              "            <th>orbit</th>\n",
              "            <th>customer</th>\n",
              "            <th>mission_outcome</th>\n",
              "            <th>landing__outcome</th>\n",
              "        </tr>\n",
              "    </thead>\n",
              "    <tbody>\n",
              "        <tr>\n",
              "            <td>2010-06-04</td>\n",
              "            <td>18:45:00</td>\n",
              "            <td>F9 v1.0  B0003</td>\n",
              "            <td>CCAFS LC-40</td>\n",
              "            <td>Dragon Spacecraft Qualification Unit</td>\n",
              "            <td>0</td>\n",
              "            <td>LEO</td>\n",
              "            <td>SpaceX</td>\n",
              "            <td>Success</td>\n",
              "            <td>Failure (parachute)</td>\n",
              "        </tr>\n",
              "        <tr>\n",
              "            <td>2010-12-08</td>\n",
              "            <td>15:43:00</td>\n",
              "            <td>F9 v1.0  B0004</td>\n",
              "            <td>CCAFS LC-40</td>\n",
              "            <td>Dragon demo flight C1, two CubeSats, barrel of Brouere cheese</td>\n",
              "            <td>0</td>\n",
              "            <td>LEO (ISS)</td>\n",
              "            <td>NASA (COTS) NRO</td>\n",
              "            <td>Success</td>\n",
              "            <td>Failure (parachute)</td>\n",
              "        </tr>\n",
              "        <tr>\n",
              "            <td>2012-05-22</td>\n",
              "            <td>07:44:00</td>\n",
              "            <td>F9 v1.0  B0005</td>\n",
              "            <td>CCAFS LC-40</td>\n",
              "            <td>Dragon demo flight C2</td>\n",
              "            <td>525</td>\n",
              "            <td>LEO (ISS)</td>\n",
              "            <td>NASA (COTS)</td>\n",
              "            <td>Success</td>\n",
              "            <td>No attempt</td>\n",
              "        </tr>\n",
              "        <tr>\n",
              "            <td>2012-10-08</td>\n",
              "            <td>00:35:00</td>\n",
              "            <td>F9 v1.0  B0006</td>\n",
              "            <td>CCAFS LC-40</td>\n",
              "            <td>SpaceX CRS-1</td>\n",
              "            <td>500</td>\n",
              "            <td>LEO (ISS)</td>\n",
              "            <td>NASA (CRS)</td>\n",
              "            <td>Success</td>\n",
              "            <td>No attempt</td>\n",
              "        </tr>\n",
              "        <tr>\n",
              "            <td>2013-03-01</td>\n",
              "            <td>15:10:00</td>\n",
              "            <td>F9 v1.0  B0007</td>\n",
              "            <td>CCAFS LC-40</td>\n",
              "            <td>SpaceX CRS-2</td>\n",
              "            <td>677</td>\n",
              "            <td>LEO (ISS)</td>\n",
              "            <td>NASA (CRS)</td>\n",
              "            <td>Success</td>\n",
              "            <td>No attempt</td>\n",
              "        </tr>\n",
              "    </tbody>\n",
              "</table>"
            ],
            "text/plain": [
              "[(datetime.date(2010, 6, 4), datetime.time(18, 45), 'F9 v1.0  B0003', 'CCAFS LC-40', 'Dragon Spacecraft Qualification Unit', 0, 'LEO', 'SpaceX', 'Success', 'Failure (parachute)'),\n",
              " (datetime.date(2010, 12, 8), datetime.time(15, 43), 'F9 v1.0  B0004', 'CCAFS LC-40', 'Dragon demo flight C1, two CubeSats, barrel of Brouere cheese', 0, 'LEO (ISS)', 'NASA (COTS) NRO', 'Success', 'Failure (parachute)'),\n",
              " (datetime.date(2012, 5, 22), datetime.time(7, 44), 'F9 v1.0  B0005', 'CCAFS LC-40', 'Dragon demo flight C2', 525, 'LEO (ISS)', 'NASA (COTS)', 'Success', 'No attempt'),\n",
              " (datetime.date(2012, 10, 8), datetime.time(0, 35), 'F9 v1.0  B0006', 'CCAFS LC-40', 'SpaceX CRS-1', 500, 'LEO (ISS)', 'NASA (CRS)', 'Success', 'No attempt'),\n",
              " (datetime.date(2013, 3, 1), datetime.time(15, 10), 'F9 v1.0  B0007', 'CCAFS LC-40', 'SpaceX CRS-2', 677, 'LEO (ISS)', 'NASA (CRS)', 'Success', 'No attempt')]"
            ]
          },
          "metadata": {},
          "execution_count": 14
        }
      ]
    },
    {
      "cell_type": "markdown",
      "metadata": {
        "id": "t8yrwsA29EIg"
      },
      "source": [
        "### Task 3\n",
        "\n",
        "##### Display the total payload mass carried by boosters launched by NASA (CRS)\n"
      ]
    },
    {
      "cell_type": "code",
      "metadata": {
        "id": "trudBzRs9EIg",
        "colab": {
          "base_uri": "https://localhost:8080/",
          "height": 93
        },
        "outputId": "19ded456-5701-415f-821c-d0b2bb5cd128"
      },
      "source": [
        "%sql select * from (select CUSTOMER, SUM(PAYLOAD_MASS__KG_) from SPACEXTBL group by CUSTOMER) where customer='NASA (CRS)'"
      ],
      "execution_count": 24,
      "outputs": [
        {
          "output_type": "stream",
          "name": "stdout",
          "text": [
            " * ibm_db_sa://khp70687:***@55fbc997-9266-4331-afd3-888b05e734c0.bs2io90l08kqb1od8lcg.databases.appdomain.cloud:31929/bludb\n",
            "Done.\n"
          ]
        },
        {
          "output_type": "execute_result",
          "data": {
            "text/html": [
              "<table>\n",
              "    <thead>\n",
              "        <tr>\n",
              "            <th>customer</th>\n",
              "            <th>2</th>\n",
              "        </tr>\n",
              "    </thead>\n",
              "    <tbody>\n",
              "        <tr>\n",
              "            <td>NASA (CRS)</td>\n",
              "            <td>45596</td>\n",
              "        </tr>\n",
              "    </tbody>\n",
              "</table>"
            ],
            "text/plain": [
              "[('NASA (CRS)', 45596)]"
            ]
          },
          "metadata": {},
          "execution_count": 24
        }
      ]
    },
    {
      "cell_type": "markdown",
      "metadata": {
        "id": "tWnDKu1A9EIg"
      },
      "source": [
        "### Task 4\n",
        "\n",
        "##### Display average payload mass carried by booster version F9 v1.1\n"
      ]
    },
    {
      "cell_type": "code",
      "metadata": {
        "id": "Dxr7VMKG9EIh",
        "colab": {
          "base_uri": "https://localhost:8080/",
          "height": 1000
        },
        "outputId": "2fd8e50e-2401-40ce-b7be-1733edf71a24"
      },
      "source": [
        "%sql select BOOSTER_VERSION, avg(PAYLOAD_MASS__KG_) as \"average payload mass\" from SPACEXTBL group by BOOSTER_VERSION"
      ],
      "execution_count": 28,
      "outputs": [
        {
          "output_type": "stream",
          "name": "stdout",
          "text": [
            " * ibm_db_sa://khp70687:***@55fbc997-9266-4331-afd3-888b05e734c0.bs2io90l08kqb1od8lcg.databases.appdomain.cloud:31929/bludb\n",
            "Done.\n"
          ]
        },
        {
          "output_type": "execute_result",
          "data": {
            "text/html": [
              "<table>\n",
              "    <thead>\n",
              "        <tr>\n",
              "            <th>booster_version</th>\n",
              "            <th>average payload mass</th>\n",
              "        </tr>\n",
              "    </thead>\n",
              "    <tbody>\n",
              "        <tr>\n",
              "            <td>F9 B4  B1039.2</td>\n",
              "            <td>2647</td>\n",
              "        </tr>\n",
              "        <tr>\n",
              "            <td>F9 B4  B1040.2</td>\n",
              "            <td>5384</td>\n",
              "        </tr>\n",
              "        <tr>\n",
              "            <td>F9 B4  B1041.2</td>\n",
              "            <td>9600</td>\n",
              "        </tr>\n",
              "        <tr>\n",
              "            <td>F9 B4  B1043.2</td>\n",
              "            <td>6460</td>\n",
              "        </tr>\n",
              "        <tr>\n",
              "            <td>F9 B4 B1039.1</td>\n",
              "            <td>3310</td>\n",
              "        </tr>\n",
              "        <tr>\n",
              "            <td>F9 B4 B1040.1</td>\n",
              "            <td>4990</td>\n",
              "        </tr>\n",
              "        <tr>\n",
              "            <td>F9 B4 B1041.1</td>\n",
              "            <td>9600</td>\n",
              "        </tr>\n",
              "        <tr>\n",
              "            <td>F9 B4 B1042.1</td>\n",
              "            <td>3500</td>\n",
              "        </tr>\n",
              "        <tr>\n",
              "            <td>F9 B4 B1043.1</td>\n",
              "            <td>5000</td>\n",
              "        </tr>\n",
              "        <tr>\n",
              "            <td>F9 B4 B1044</td>\n",
              "            <td>6092</td>\n",
              "        </tr>\n",
              "        <tr>\n",
              "            <td>F9 B4 B1045.1</td>\n",
              "            <td>362</td>\n",
              "        </tr>\n",
              "        <tr>\n",
              "            <td>F9 B4 B1045.2</td>\n",
              "            <td>2697</td>\n",
              "        </tr>\n",
              "        <tr>\n",
              "            <td>F9 B5  B1046.1</td>\n",
              "            <td>3600</td>\n",
              "        </tr>\n",
              "        <tr>\n",
              "            <td>F9 B5 B1046.2</td>\n",
              "            <td>5800</td>\n",
              "        </tr>\n",
              "        <tr>\n",
              "            <td>F9 B5 B1046.3</td>\n",
              "            <td>4000</td>\n",
              "        </tr>\n",
              "        <tr>\n",
              "            <td>F9 B5 B1046.4</td>\n",
              "            <td>12050</td>\n",
              "        </tr>\n",
              "        <tr>\n",
              "            <td>F9 B5 B1047.2</td>\n",
              "            <td>5300</td>\n",
              "        </tr>\n",
              "        <tr>\n",
              "            <td>F9 B5 B1047.3</td>\n",
              "            <td>6500</td>\n",
              "        </tr>\n",
              "        <tr>\n",
              "            <td>F9 B5 B1048.2</td>\n",
              "            <td>3000</td>\n",
              "        </tr>\n",
              "        <tr>\n",
              "            <td>F9 B5 B1048.3</td>\n",
              "            <td>4850</td>\n",
              "        </tr>\n",
              "        <tr>\n",
              "            <td>F9 B5 B1048.4</td>\n",
              "            <td>15600</td>\n",
              "        </tr>\n",
              "        <tr>\n",
              "            <td>F9 B5 B1048.5</td>\n",
              "            <td>15600</td>\n",
              "        </tr>\n",
              "        <tr>\n",
              "            <td>F9 B5 B1049.2</td>\n",
              "            <td>9600</td>\n",
              "        </tr>\n",
              "        <tr>\n",
              "            <td>F9 B5 B1049.3</td>\n",
              "            <td>13620</td>\n",
              "        </tr>\n",
              "        <tr>\n",
              "            <td>F9 B5 B1049.4</td>\n",
              "            <td>15600</td>\n",
              "        </tr>\n",
              "        <tr>\n",
              "            <td>F9 B5 B1049.5</td>\n",
              "            <td>15600</td>\n",
              "        </tr>\n",
              "        <tr>\n",
              "            <td>F9 B5 B1049.6</td>\n",
              "            <td>15440</td>\n",
              "        </tr>\n",
              "        <tr>\n",
              "            <td>F9 B5 B1049.7</td>\n",
              "            <td>15600</td>\n",
              "        </tr>\n",
              "        <tr>\n",
              "            <td>F9 B5 B1051.2</td>\n",
              "            <td>4200</td>\n",
              "        </tr>\n",
              "        <tr>\n",
              "            <td>F9 B5 B1051.3</td>\n",
              "            <td>15600</td>\n",
              "        </tr>\n",
              "        <tr>\n",
              "            <td>F9 B5 B1051.4</td>\n",
              "            <td>15600</td>\n",
              "        </tr>\n",
              "        <tr>\n",
              "            <td>F9 B5 B1051.5</td>\n",
              "            <td>14932</td>\n",
              "        </tr>\n",
              "        <tr>\n",
              "            <td>F9 B5 B1051.6</td>\n",
              "            <td>15600</td>\n",
              "        </tr>\n",
              "        <tr>\n",
              "            <td>F9 B5 B1056.2</td>\n",
              "            <td>2268</td>\n",
              "        </tr>\n",
              "        <tr>\n",
              "            <td>F9 B5 B1056.3</td>\n",
              "            <td>6956</td>\n",
              "        </tr>\n",
              "        <tr>\n",
              "            <td>F9 B5 B1056.4</td>\n",
              "            <td>15600</td>\n",
              "        </tr>\n",
              "        <tr>\n",
              "            <td>F9 B5 B1058.2</td>\n",
              "            <td>5500</td>\n",
              "        </tr>\n",
              "        <tr>\n",
              "            <td>F9 B5 B1058.3</td>\n",
              "            <td>15600</td>\n",
              "        </tr>\n",
              "        <tr>\n",
              "            <td>F9 B5 B1058.4</td>\n",
              "            <td>2972</td>\n",
              "        </tr>\n",
              "        <tr>\n",
              "            <td>F9 B5 B1059.2</td>\n",
              "            <td>1977</td>\n",
              "        </tr>\n",
              "        <tr>\n",
              "            <td>F9 B5 B1059.3</td>\n",
              "            <td>15410</td>\n",
              "        </tr>\n",
              "        <tr>\n",
              "            <td>F9 B5 B1059.4</td>\n",
              "            <td>3130</td>\n",
              "        </tr>\n",
              "        <tr>\n",
              "            <td>F9 B5 B1060.2</td>\n",
              "            <td>15600</td>\n",
              "        </tr>\n",
              "        <tr>\n",
              "            <td>F9 B5 B1060.3</td>\n",
              "            <td>15600</td>\n",
              "        </tr>\n",
              "        <tr>\n",
              "            <td>F9 B5B1047.1</td>\n",
              "            <td>7075</td>\n",
              "        </tr>\n",
              "        <tr>\n",
              "            <td>F9 B5B1048.1</td>\n",
              "            <td>9600</td>\n",
              "        </tr>\n",
              "        <tr>\n",
              "            <td>F9 B5B1049.1</td>\n",
              "            <td>7060</td>\n",
              "        </tr>\n",
              "        <tr>\n",
              "            <td>F9 B5B1050</td>\n",
              "            <td>2500</td>\n",
              "        </tr>\n",
              "        <tr>\n",
              "            <td>F9 B5B1051.1</td>\n",
              "            <td>12055</td>\n",
              "        </tr>\n",
              "        <tr>\n",
              "            <td>F9 B5B1054</td>\n",
              "            <td>4400</td>\n",
              "        </tr>\n",
              "        <tr>\n",
              "            <td>F9 B5B1056.1</td>\n",
              "            <td>2495</td>\n",
              "        </tr>\n",
              "        <tr>\n",
              "            <td>F9 B5B1058.1</td>\n",
              "            <td>12530</td>\n",
              "        </tr>\n",
              "        <tr>\n",
              "            <td>F9 B5B1059.1</td>\n",
              "            <td>2617</td>\n",
              "        </tr>\n",
              "        <tr>\n",
              "            <td>F9 B5B1060.1</td>\n",
              "            <td>4311</td>\n",
              "        </tr>\n",
              "        <tr>\n",
              "            <td>F9 B5B1061.1</td>\n",
              "            <td>12500</td>\n",
              "        </tr>\n",
              "        <tr>\n",
              "            <td>F9 B5B1062.1</td>\n",
              "            <td>4311</td>\n",
              "        </tr>\n",
              "        <tr>\n",
              "            <td>F9 B5B1063.1</td>\n",
              "            <td>1192</td>\n",
              "        </tr>\n",
              "        <tr>\n",
              "            <td>F9 FT  B1021.2</td>\n",
              "            <td>5300</td>\n",
              "        </tr>\n",
              "        <tr>\n",
              "            <td>F9 FT  B1029.2</td>\n",
              "            <td>3669</td>\n",
              "        </tr>\n",
              "        <tr>\n",
              "            <td>F9 FT  B1031.2</td>\n",
              "            <td>5200</td>\n",
              "        </tr>\n",
              "        <tr>\n",
              "            <td>F9 FT  B1032.2</td>\n",
              "            <td>4230</td>\n",
              "        </tr>\n",
              "        <tr>\n",
              "            <td>F9 FT  B1035.2</td>\n",
              "            <td>2205</td>\n",
              "        </tr>\n",
              "        <tr>\n",
              "            <td>F9 FT  B1036.2</td>\n",
              "            <td>9600</td>\n",
              "        </tr>\n",
              "        <tr>\n",
              "            <td>F9 FT  B1038.2</td>\n",
              "            <td>2150</td>\n",
              "        </tr>\n",
              "        <tr>\n",
              "            <td>F9 FT B1019</td>\n",
              "            <td>2034</td>\n",
              "        </tr>\n",
              "        <tr>\n",
              "            <td>F9 FT B1020</td>\n",
              "            <td>5271</td>\n",
              "        </tr>\n",
              "        <tr>\n",
              "            <td>F9 FT B1021.1</td>\n",
              "            <td>3136</td>\n",
              "        </tr>\n",
              "        <tr>\n",
              "            <td>F9 FT B1022</td>\n",
              "            <td>4696</td>\n",
              "        </tr>\n",
              "        <tr>\n",
              "            <td>F9 FT B1023.1</td>\n",
              "            <td>3100</td>\n",
              "        </tr>\n",
              "        <tr>\n",
              "            <td>F9 FT B1024</td>\n",
              "            <td>3600</td>\n",
              "        </tr>\n",
              "        <tr>\n",
              "            <td>F9 FT B1025.1</td>\n",
              "            <td>2257</td>\n",
              "        </tr>\n",
              "        <tr>\n",
              "            <td>F9 FT B1026</td>\n",
              "            <td>4600</td>\n",
              "        </tr>\n",
              "        <tr>\n",
              "            <td>F9 FT B1029.1</td>\n",
              "            <td>9600</td>\n",
              "        </tr>\n",
              "        <tr>\n",
              "            <td>F9 FT B1030</td>\n",
              "            <td>5600</td>\n",
              "        </tr>\n",
              "        <tr>\n",
              "            <td>F9 FT B1031.1</td>\n",
              "            <td>2490</td>\n",
              "        </tr>\n",
              "        <tr>\n",
              "            <td>F9 FT B1032.1</td>\n",
              "            <td>5300</td>\n",
              "        </tr>\n",
              "        <tr>\n",
              "            <td>F9 FT B1034</td>\n",
              "            <td>6070</td>\n",
              "        </tr>\n",
              "        <tr>\n",
              "            <td>F9 FT B1035.1</td>\n",
              "            <td>2708</td>\n",
              "        </tr>\n",
              "        <tr>\n",
              "            <td>F9 FT B1036.1</td>\n",
              "            <td>9600</td>\n",
              "        </tr>\n",
              "        <tr>\n",
              "            <td>F9 FT B1037</td>\n",
              "            <td>6761</td>\n",
              "        </tr>\n",
              "        <tr>\n",
              "            <td>F9 FT B1038.1</td>\n",
              "            <td>475</td>\n",
              "        </tr>\n",
              "        <tr>\n",
              "            <td>F9 v1.0  B0003</td>\n",
              "            <td>0</td>\n",
              "        </tr>\n",
              "        <tr>\n",
              "            <td>F9 v1.0  B0004</td>\n",
              "            <td>0</td>\n",
              "        </tr>\n",
              "        <tr>\n",
              "            <td>F9 v1.0  B0005</td>\n",
              "            <td>525</td>\n",
              "        </tr>\n",
              "        <tr>\n",
              "            <td>F9 v1.0  B0006</td>\n",
              "            <td>500</td>\n",
              "        </tr>\n",
              "        <tr>\n",
              "            <td>F9 v1.0  B0007</td>\n",
              "            <td>677</td>\n",
              "        </tr>\n",
              "        <tr>\n",
              "            <td>F9 v1.1</td>\n",
              "            <td>2928</td>\n",
              "        </tr>\n",
              "        <tr>\n",
              "            <td>F9 v1.1  B1003</td>\n",
              "            <td>500</td>\n",
              "        </tr>\n",
              "        <tr>\n",
              "            <td>F9 v1.1 B1010</td>\n",
              "            <td>2216</td>\n",
              "        </tr>\n",
              "        <tr>\n",
              "            <td>F9 v1.1 B1011</td>\n",
              "            <td>4428</td>\n",
              "        </tr>\n",
              "        <tr>\n",
              "            <td>F9 v1.1 B1012</td>\n",
              "            <td>2395</td>\n",
              "        </tr>\n",
              "        <tr>\n",
              "            <td>F9 v1.1 B1013</td>\n",
              "            <td>570</td>\n",
              "        </tr>\n",
              "        <tr>\n",
              "            <td>F9 v1.1 B1014</td>\n",
              "            <td>4159</td>\n",
              "        </tr>\n",
              "        <tr>\n",
              "            <td>F9 v1.1 B1015</td>\n",
              "            <td>1898</td>\n",
              "        </tr>\n",
              "        <tr>\n",
              "            <td>F9 v1.1 B1016</td>\n",
              "            <td>4707</td>\n",
              "        </tr>\n",
              "        <tr>\n",
              "            <td>F9 v1.1 B1017</td>\n",
              "            <td>553</td>\n",
              "        </tr>\n",
              "        <tr>\n",
              "            <td>F9 v1.1 B1018</td>\n",
              "            <td>1952</td>\n",
              "        </tr>\n",
              "    </tbody>\n",
              "</table>"
            ],
            "text/plain": [
              "[('F9 B4  B1039.2', 2647),\n",
              " ('F9 B4  B1040.2', 5384),\n",
              " ('F9 B4  B1041.2', 9600),\n",
              " ('F9 B4  B1043.2', 6460),\n",
              " ('F9 B4 B1039.1', 3310),\n",
              " ('F9 B4 B1040.1', 4990),\n",
              " ('F9 B4 B1041.1', 9600),\n",
              " ('F9 B4 B1042.1', 3500),\n",
              " ('F9 B4 B1043.1', 5000),\n",
              " ('F9 B4 B1044', 6092),\n",
              " ('F9 B4 B1045.1', 362),\n",
              " ('F9 B4 B1045.2', 2697),\n",
              " ('F9 B5  B1046.1', 3600),\n",
              " ('F9 B5 B1046.2', 5800),\n",
              " ('F9 B5 B1046.3', 4000),\n",
              " ('F9 B5 B1046.4', 12050),\n",
              " ('F9 B5 B1047.2', 5300),\n",
              " ('F9 B5 B1047.3', 6500),\n",
              " ('F9 B5 B1048.2', 3000),\n",
              " ('F9 B5 B1048.3', 4850),\n",
              " ('F9 B5 B1048.4', 15600),\n",
              " ('F9 B5 B1048.5', 15600),\n",
              " ('F9 B5 B1049.2', 9600),\n",
              " ('F9 B5 B1049.3', 13620),\n",
              " ('F9 B5 B1049.4', 15600),\n",
              " ('F9 B5 B1049.5', 15600),\n",
              " ('F9 B5 B1049.6', 15440),\n",
              " ('F9 B5 B1049.7', 15600),\n",
              " ('F9 B5 B1051.2', 4200),\n",
              " ('F9 B5 B1051.3', 15600),\n",
              " ('F9 B5 B1051.4', 15600),\n",
              " ('F9 B5 B1051.5', 14932),\n",
              " ('F9 B5 B1051.6', 15600),\n",
              " ('F9 B5 B1056.2', 2268),\n",
              " ('F9 B5 B1056.3', 6956),\n",
              " ('F9 B5 B1056.4', 15600),\n",
              " ('F9 B5 B1058.2', 5500),\n",
              " ('F9 B5 B1058.3', 15600),\n",
              " ('F9 B5 B1058.4', 2972),\n",
              " ('F9 B5 B1059.2', 1977),\n",
              " ('F9 B5 B1059.3', 15410),\n",
              " ('F9 B5 B1059.4', 3130),\n",
              " ('F9 B5 B1060.2', 15600),\n",
              " ('F9 B5 B1060.3', 15600),\n",
              " ('F9 B5B1047.1', 7075),\n",
              " ('F9 B5B1048.1', 9600),\n",
              " ('F9 B5B1049.1', 7060),\n",
              " ('F9 B5B1050', 2500),\n",
              " ('F9 B5B1051.1', 12055),\n",
              " ('F9 B5B1054', 4400),\n",
              " ('F9 B5B1056.1', 2495),\n",
              " ('F9 B5B1058.1', 12530),\n",
              " ('F9 B5B1059.1', 2617),\n",
              " ('F9 B5B1060.1', 4311),\n",
              " ('F9 B5B1061.1', 12500),\n",
              " ('F9 B5B1062.1', 4311),\n",
              " ('F9 B5B1063.1', 1192),\n",
              " ('F9 FT  B1021.2', 5300),\n",
              " ('F9 FT  B1029.2', 3669),\n",
              " ('F9 FT  B1031.2', 5200),\n",
              " ('F9 FT  B1032.2', 4230),\n",
              " ('F9 FT  B1035.2', 2205),\n",
              " ('F9 FT  B1036.2', 9600),\n",
              " ('F9 FT  B1038.2', 2150),\n",
              " ('F9 FT B1019', 2034),\n",
              " ('F9 FT B1020', 5271),\n",
              " ('F9 FT B1021.1', 3136),\n",
              " ('F9 FT B1022', 4696),\n",
              " ('F9 FT B1023.1', 3100),\n",
              " ('F9 FT B1024', 3600),\n",
              " ('F9 FT B1025.1', 2257),\n",
              " ('F9 FT B1026', 4600),\n",
              " ('F9 FT B1029.1', 9600),\n",
              " ('F9 FT B1030', 5600),\n",
              " ('F9 FT B1031.1', 2490),\n",
              " ('F9 FT B1032.1', 5300),\n",
              " ('F9 FT B1034', 6070),\n",
              " ('F9 FT B1035.1', 2708),\n",
              " ('F9 FT B1036.1', 9600),\n",
              " ('F9 FT B1037', 6761),\n",
              " ('F9 FT B1038.1', 475),\n",
              " ('F9 v1.0  B0003', 0),\n",
              " ('F9 v1.0  B0004', 0),\n",
              " ('F9 v1.0  B0005', 525),\n",
              " ('F9 v1.0  B0006', 500),\n",
              " ('F9 v1.0  B0007', 677),\n",
              " ('F9 v1.1', 2928),\n",
              " ('F9 v1.1  B1003', 500),\n",
              " ('F9 v1.1 B1010', 2216),\n",
              " ('F9 v1.1 B1011', 4428),\n",
              " ('F9 v1.1 B1012', 2395),\n",
              " ('F9 v1.1 B1013', 570),\n",
              " ('F9 v1.1 B1014', 4159),\n",
              " ('F9 v1.1 B1015', 1898),\n",
              " ('F9 v1.1 B1016', 4707),\n",
              " ('F9 v1.1 B1017', 553),\n",
              " ('F9 v1.1 B1018', 1952)]"
            ]
          },
          "metadata": {},
          "execution_count": 28
        }
      ]
    },
    {
      "cell_type": "markdown",
      "metadata": {
        "id": "_2lN5WEC9EIh"
      },
      "source": [
        "### Task 5\n",
        "\n",
        "##### List the date when the first successful landing outcome in ground pad was acheived.\n",
        "\n",
        "*Hint:Use min function*\n"
      ]
    },
    {
      "cell_type": "code",
      "metadata": {
        "id": "wen5nFcD9EIh"
      },
      "source": [
        "%sql select min(DATE), LANDING_OUTCOME from SPACEXTBL "
      ],
      "execution_count": null,
      "outputs": []
    },
    {
      "cell_type": "markdown",
      "metadata": {
        "id": "nYeR6ul99EIh"
      },
      "source": [
        "### Task 6\n",
        "\n",
        "##### List the names of the boosters which have success in drone ship and have payload mass greater than 4000 but less than 6000\n"
      ]
    },
    {
      "cell_type": "code",
      "metadata": {
        "id": "UlpEEPAA9EIh",
        "colab": {
          "base_uri": "https://localhost:8080/",
          "height": 156
        },
        "outputId": "e4f19085-e2a5-44db-f509-566aab850b32"
      },
      "source": [
        "%sql select BOOSTER_VERSION, LAUNCH_SITE, LANDING__OUTCOME from SPACEXTBL where LANDING__OUTCOME='Success (drone ship)' and PAYLOAD_MASS__KG_ between 4000 and 6000"
      ],
      "execution_count": 29,
      "outputs": [
        {
          "output_type": "stream",
          "name": "stdout",
          "text": [
            " * ibm_db_sa://khp70687:***@55fbc997-9266-4331-afd3-888b05e734c0.bs2io90l08kqb1od8lcg.databases.appdomain.cloud:31929/bludb\n",
            "Done.\n"
          ]
        },
        {
          "output_type": "execute_result",
          "data": {
            "text/html": [
              "<table>\n",
              "    <thead>\n",
              "        <tr>\n",
              "            <th>booster_version</th>\n",
              "            <th>launch_site</th>\n",
              "            <th>landing__outcome</th>\n",
              "        </tr>\n",
              "    </thead>\n",
              "    <tbody>\n",
              "        <tr>\n",
              "            <td>F9 FT B1022</td>\n",
              "            <td>CCAFS LC-40</td>\n",
              "            <td>Success (drone ship)</td>\n",
              "        </tr>\n",
              "        <tr>\n",
              "            <td>F9 FT B1026</td>\n",
              "            <td>CCAFS LC-40</td>\n",
              "            <td>Success (drone ship)</td>\n",
              "        </tr>\n",
              "        <tr>\n",
              "            <td>F9 FT  B1021.2</td>\n",
              "            <td>KSC LC-39A</td>\n",
              "            <td>Success (drone ship)</td>\n",
              "        </tr>\n",
              "        <tr>\n",
              "            <td>F9 FT  B1031.2</td>\n",
              "            <td>KSC LC-39A</td>\n",
              "            <td>Success (drone ship)</td>\n",
              "        </tr>\n",
              "    </tbody>\n",
              "</table>"
            ],
            "text/plain": [
              "[('F9 FT B1022', 'CCAFS LC-40', 'Success (drone ship)'),\n",
              " ('F9 FT B1026', 'CCAFS LC-40', 'Success (drone ship)'),\n",
              " ('F9 FT  B1021.2', 'KSC LC-39A', 'Success (drone ship)'),\n",
              " ('F9 FT  B1031.2', 'KSC LC-39A', 'Success (drone ship)')]"
            ]
          },
          "metadata": {},
          "execution_count": 29
        }
      ]
    },
    {
      "cell_type": "markdown",
      "metadata": {
        "id": "_Xh7xQWk9EIi"
      },
      "source": [
        "### Task 7\n",
        "\n",
        "##### List the total number of successful and failure mission outcomes\n"
      ]
    },
    {
      "cell_type": "code",
      "metadata": {
        "id": "N1g0Bfar9EIi",
        "colab": {
          "base_uri": "https://localhost:8080/",
          "height": 135
        },
        "outputId": "8fe9aba0-1b10-4f4e-c960-7564611245b2"
      },
      "source": [
        "%sql select MISSION_OUTCOME, count(MISSION_OUTCOME) as \"tOTAL COUNT\" from SPACEXTBL group by MISSION_OUTCOME"
      ],
      "execution_count": 33,
      "outputs": [
        {
          "output_type": "stream",
          "name": "stdout",
          "text": [
            " * ibm_db_sa://khp70687:***@55fbc997-9266-4331-afd3-888b05e734c0.bs2io90l08kqb1od8lcg.databases.appdomain.cloud:31929/bludb\n",
            "Done.\n"
          ]
        },
        {
          "output_type": "execute_result",
          "data": {
            "text/html": [
              "<table>\n",
              "    <thead>\n",
              "        <tr>\n",
              "            <th>mission_outcome</th>\n",
              "            <th>tOTAL COUNT</th>\n",
              "        </tr>\n",
              "    </thead>\n",
              "    <tbody>\n",
              "        <tr>\n",
              "            <td>Failure (in flight)</td>\n",
              "            <td>1</td>\n",
              "        </tr>\n",
              "        <tr>\n",
              "            <td>Success</td>\n",
              "            <td>99</td>\n",
              "        </tr>\n",
              "        <tr>\n",
              "            <td>Success (payload status unclear)</td>\n",
              "            <td>1</td>\n",
              "        </tr>\n",
              "    </tbody>\n",
              "</table>"
            ],
            "text/plain": [
              "[('Failure (in flight)', 1),\n",
              " ('Success', 99),\n",
              " ('Success (payload status unclear)', 1)]"
            ]
          },
          "metadata": {},
          "execution_count": 33
        }
      ]
    },
    {
      "cell_type": "markdown",
      "metadata": {
        "id": "2R5OIF5j9EIi"
      },
      "source": [
        "### Task 8\n",
        "\n",
        "##### List the   names of the booster_versions which have carried the maximum payload mass. Use a subquery\n"
      ]
    },
    {
      "cell_type": "code",
      "metadata": {
        "id": "fp0Pxs6X9EIi",
        "colab": {
          "base_uri": "https://localhost:8080/",
          "height": 1000
        },
        "outputId": "a77bc1f8-79dd-4132-fe6f-0399f768a71f"
      },
      "source": [
        " %sql select BOOSTER_VERSION, max(PAYLOAD_MASS__KG_) from SPACEXTBL group by BOOSTER_VERSION "
      ],
      "execution_count": 36,
      "outputs": [
        {
          "output_type": "stream",
          "name": "stdout",
          "text": [
            " * ibm_db_sa://khp70687:***@55fbc997-9266-4331-afd3-888b05e734c0.bs2io90l08kqb1od8lcg.databases.appdomain.cloud:31929/bludb\n",
            "Done.\n"
          ]
        },
        {
          "output_type": "execute_result",
          "data": {
            "text/html": [
              "<table>\n",
              "    <thead>\n",
              "        <tr>\n",
              "            <th>booster_version</th>\n",
              "            <th>2</th>\n",
              "        </tr>\n",
              "    </thead>\n",
              "    <tbody>\n",
              "        <tr>\n",
              "            <td>F9 B4  B1039.2</td>\n",
              "            <td>2647</td>\n",
              "        </tr>\n",
              "        <tr>\n",
              "            <td>F9 B4  B1040.2</td>\n",
              "            <td>5384</td>\n",
              "        </tr>\n",
              "        <tr>\n",
              "            <td>F9 B4  B1041.2</td>\n",
              "            <td>9600</td>\n",
              "        </tr>\n",
              "        <tr>\n",
              "            <td>F9 B4  B1043.2</td>\n",
              "            <td>6460</td>\n",
              "        </tr>\n",
              "        <tr>\n",
              "            <td>F9 B4 B1039.1</td>\n",
              "            <td>3310</td>\n",
              "        </tr>\n",
              "        <tr>\n",
              "            <td>F9 B4 B1040.1</td>\n",
              "            <td>4990</td>\n",
              "        </tr>\n",
              "        <tr>\n",
              "            <td>F9 B4 B1041.1</td>\n",
              "            <td>9600</td>\n",
              "        </tr>\n",
              "        <tr>\n",
              "            <td>F9 B4 B1042.1</td>\n",
              "            <td>3500</td>\n",
              "        </tr>\n",
              "        <tr>\n",
              "            <td>F9 B4 B1043.1</td>\n",
              "            <td>5000</td>\n",
              "        </tr>\n",
              "        <tr>\n",
              "            <td>F9 B4 B1044</td>\n",
              "            <td>6092</td>\n",
              "        </tr>\n",
              "        <tr>\n",
              "            <td>F9 B4 B1045.1</td>\n",
              "            <td>362</td>\n",
              "        </tr>\n",
              "        <tr>\n",
              "            <td>F9 B4 B1045.2</td>\n",
              "            <td>2697</td>\n",
              "        </tr>\n",
              "        <tr>\n",
              "            <td>F9 B5  B1046.1</td>\n",
              "            <td>3600</td>\n",
              "        </tr>\n",
              "        <tr>\n",
              "            <td>F9 B5 B1046.2</td>\n",
              "            <td>5800</td>\n",
              "        </tr>\n",
              "        <tr>\n",
              "            <td>F9 B5 B1046.3</td>\n",
              "            <td>4000</td>\n",
              "        </tr>\n",
              "        <tr>\n",
              "            <td>F9 B5 B1046.4</td>\n",
              "            <td>12050</td>\n",
              "        </tr>\n",
              "        <tr>\n",
              "            <td>F9 B5 B1047.2</td>\n",
              "            <td>5300</td>\n",
              "        </tr>\n",
              "        <tr>\n",
              "            <td>F9 B5 B1047.3</td>\n",
              "            <td>6500</td>\n",
              "        </tr>\n",
              "        <tr>\n",
              "            <td>F9 B5 B1048.2</td>\n",
              "            <td>3000</td>\n",
              "        </tr>\n",
              "        <tr>\n",
              "            <td>F9 B5 B1048.3</td>\n",
              "            <td>4850</td>\n",
              "        </tr>\n",
              "        <tr>\n",
              "            <td>F9 B5 B1048.4</td>\n",
              "            <td>15600</td>\n",
              "        </tr>\n",
              "        <tr>\n",
              "            <td>F9 B5 B1048.5</td>\n",
              "            <td>15600</td>\n",
              "        </tr>\n",
              "        <tr>\n",
              "            <td>F9 B5 B1049.2</td>\n",
              "            <td>9600</td>\n",
              "        </tr>\n",
              "        <tr>\n",
              "            <td>F9 B5 B1049.3</td>\n",
              "            <td>13620</td>\n",
              "        </tr>\n",
              "        <tr>\n",
              "            <td>F9 B5 B1049.4</td>\n",
              "            <td>15600</td>\n",
              "        </tr>\n",
              "        <tr>\n",
              "            <td>F9 B5 B1049.5</td>\n",
              "            <td>15600</td>\n",
              "        </tr>\n",
              "        <tr>\n",
              "            <td>F9 B5 B1049.6</td>\n",
              "            <td>15440</td>\n",
              "        </tr>\n",
              "        <tr>\n",
              "            <td>F9 B5 B1049.7</td>\n",
              "            <td>15600</td>\n",
              "        </tr>\n",
              "        <tr>\n",
              "            <td>F9 B5 B1051.2</td>\n",
              "            <td>4200</td>\n",
              "        </tr>\n",
              "        <tr>\n",
              "            <td>F9 B5 B1051.3</td>\n",
              "            <td>15600</td>\n",
              "        </tr>\n",
              "        <tr>\n",
              "            <td>F9 B5 B1051.4</td>\n",
              "            <td>15600</td>\n",
              "        </tr>\n",
              "        <tr>\n",
              "            <td>F9 B5 B1051.5</td>\n",
              "            <td>14932</td>\n",
              "        </tr>\n",
              "        <tr>\n",
              "            <td>F9 B5 B1051.6</td>\n",
              "            <td>15600</td>\n",
              "        </tr>\n",
              "        <tr>\n",
              "            <td>F9 B5 B1056.2</td>\n",
              "            <td>2268</td>\n",
              "        </tr>\n",
              "        <tr>\n",
              "            <td>F9 B5 B1056.3</td>\n",
              "            <td>6956</td>\n",
              "        </tr>\n",
              "        <tr>\n",
              "            <td>F9 B5 B1056.4</td>\n",
              "            <td>15600</td>\n",
              "        </tr>\n",
              "        <tr>\n",
              "            <td>F9 B5 B1058.2</td>\n",
              "            <td>5500</td>\n",
              "        </tr>\n",
              "        <tr>\n",
              "            <td>F9 B5 B1058.3</td>\n",
              "            <td>15600</td>\n",
              "        </tr>\n",
              "        <tr>\n",
              "            <td>F9 B5 B1058.4</td>\n",
              "            <td>2972</td>\n",
              "        </tr>\n",
              "        <tr>\n",
              "            <td>F9 B5 B1059.2</td>\n",
              "            <td>1977</td>\n",
              "        </tr>\n",
              "        <tr>\n",
              "            <td>F9 B5 B1059.3</td>\n",
              "            <td>15410</td>\n",
              "        </tr>\n",
              "        <tr>\n",
              "            <td>F9 B5 B1059.4</td>\n",
              "            <td>3130</td>\n",
              "        </tr>\n",
              "        <tr>\n",
              "            <td>F9 B5 B1060.2</td>\n",
              "            <td>15600</td>\n",
              "        </tr>\n",
              "        <tr>\n",
              "            <td>F9 B5 B1060.3</td>\n",
              "            <td>15600</td>\n",
              "        </tr>\n",
              "        <tr>\n",
              "            <td>F9 B5B1047.1</td>\n",
              "            <td>7075</td>\n",
              "        </tr>\n",
              "        <tr>\n",
              "            <td>F9 B5B1048.1</td>\n",
              "            <td>9600</td>\n",
              "        </tr>\n",
              "        <tr>\n",
              "            <td>F9 B5B1049.1</td>\n",
              "            <td>7060</td>\n",
              "        </tr>\n",
              "        <tr>\n",
              "            <td>F9 B5B1050</td>\n",
              "            <td>2500</td>\n",
              "        </tr>\n",
              "        <tr>\n",
              "            <td>F9 B5B1051.1</td>\n",
              "            <td>12055</td>\n",
              "        </tr>\n",
              "        <tr>\n",
              "            <td>F9 B5B1054</td>\n",
              "            <td>4400</td>\n",
              "        </tr>\n",
              "        <tr>\n",
              "            <td>F9 B5B1056.1</td>\n",
              "            <td>2495</td>\n",
              "        </tr>\n",
              "        <tr>\n",
              "            <td>F9 B5B1058.1</td>\n",
              "            <td>12530</td>\n",
              "        </tr>\n",
              "        <tr>\n",
              "            <td>F9 B5B1059.1</td>\n",
              "            <td>2617</td>\n",
              "        </tr>\n",
              "        <tr>\n",
              "            <td>F9 B5B1060.1</td>\n",
              "            <td>4311</td>\n",
              "        </tr>\n",
              "        <tr>\n",
              "            <td>F9 B5B1061.1</td>\n",
              "            <td>12500</td>\n",
              "        </tr>\n",
              "        <tr>\n",
              "            <td>F9 B5B1062.1</td>\n",
              "            <td>4311</td>\n",
              "        </tr>\n",
              "        <tr>\n",
              "            <td>F9 B5B1063.1</td>\n",
              "            <td>1192</td>\n",
              "        </tr>\n",
              "        <tr>\n",
              "            <td>F9 FT  B1021.2</td>\n",
              "            <td>5300</td>\n",
              "        </tr>\n",
              "        <tr>\n",
              "            <td>F9 FT  B1029.2</td>\n",
              "            <td>3669</td>\n",
              "        </tr>\n",
              "        <tr>\n",
              "            <td>F9 FT  B1031.2</td>\n",
              "            <td>5200</td>\n",
              "        </tr>\n",
              "        <tr>\n",
              "            <td>F9 FT  B1032.2</td>\n",
              "            <td>4230</td>\n",
              "        </tr>\n",
              "        <tr>\n",
              "            <td>F9 FT  B1035.2</td>\n",
              "            <td>2205</td>\n",
              "        </tr>\n",
              "        <tr>\n",
              "            <td>F9 FT  B1036.2</td>\n",
              "            <td>9600</td>\n",
              "        </tr>\n",
              "        <tr>\n",
              "            <td>F9 FT  B1038.2</td>\n",
              "            <td>2150</td>\n",
              "        </tr>\n",
              "        <tr>\n",
              "            <td>F9 FT B1019</td>\n",
              "            <td>2034</td>\n",
              "        </tr>\n",
              "        <tr>\n",
              "            <td>F9 FT B1020</td>\n",
              "            <td>5271</td>\n",
              "        </tr>\n",
              "        <tr>\n",
              "            <td>F9 FT B1021.1</td>\n",
              "            <td>3136</td>\n",
              "        </tr>\n",
              "        <tr>\n",
              "            <td>F9 FT B1022</td>\n",
              "            <td>4696</td>\n",
              "        </tr>\n",
              "        <tr>\n",
              "            <td>F9 FT B1023.1</td>\n",
              "            <td>3100</td>\n",
              "        </tr>\n",
              "        <tr>\n",
              "            <td>F9 FT B1024</td>\n",
              "            <td>3600</td>\n",
              "        </tr>\n",
              "        <tr>\n",
              "            <td>F9 FT B1025.1</td>\n",
              "            <td>2257</td>\n",
              "        </tr>\n",
              "        <tr>\n",
              "            <td>F9 FT B1026</td>\n",
              "            <td>4600</td>\n",
              "        </tr>\n",
              "        <tr>\n",
              "            <td>F9 FT B1029.1</td>\n",
              "            <td>9600</td>\n",
              "        </tr>\n",
              "        <tr>\n",
              "            <td>F9 FT B1030</td>\n",
              "            <td>5600</td>\n",
              "        </tr>\n",
              "        <tr>\n",
              "            <td>F9 FT B1031.1</td>\n",
              "            <td>2490</td>\n",
              "        </tr>\n",
              "        <tr>\n",
              "            <td>F9 FT B1032.1</td>\n",
              "            <td>5300</td>\n",
              "        </tr>\n",
              "        <tr>\n",
              "            <td>F9 FT B1034</td>\n",
              "            <td>6070</td>\n",
              "        </tr>\n",
              "        <tr>\n",
              "            <td>F9 FT B1035.1</td>\n",
              "            <td>2708</td>\n",
              "        </tr>\n",
              "        <tr>\n",
              "            <td>F9 FT B1036.1</td>\n",
              "            <td>9600</td>\n",
              "        </tr>\n",
              "        <tr>\n",
              "            <td>F9 FT B1037</td>\n",
              "            <td>6761</td>\n",
              "        </tr>\n",
              "        <tr>\n",
              "            <td>F9 FT B1038.1</td>\n",
              "            <td>475</td>\n",
              "        </tr>\n",
              "        <tr>\n",
              "            <td>F9 v1.0  B0003</td>\n",
              "            <td>0</td>\n",
              "        </tr>\n",
              "        <tr>\n",
              "            <td>F9 v1.0  B0004</td>\n",
              "            <td>0</td>\n",
              "        </tr>\n",
              "        <tr>\n",
              "            <td>F9 v1.0  B0005</td>\n",
              "            <td>525</td>\n",
              "        </tr>\n",
              "        <tr>\n",
              "            <td>F9 v1.0  B0006</td>\n",
              "            <td>500</td>\n",
              "        </tr>\n",
              "        <tr>\n",
              "            <td>F9 v1.0  B0007</td>\n",
              "            <td>677</td>\n",
              "        </tr>\n",
              "        <tr>\n",
              "            <td>F9 v1.1</td>\n",
              "            <td>4535</td>\n",
              "        </tr>\n",
              "        <tr>\n",
              "            <td>F9 v1.1  B1003</td>\n",
              "            <td>500</td>\n",
              "        </tr>\n",
              "        <tr>\n",
              "            <td>F9 v1.1 B1010</td>\n",
              "            <td>2216</td>\n",
              "        </tr>\n",
              "        <tr>\n",
              "            <td>F9 v1.1 B1011</td>\n",
              "            <td>4428</td>\n",
              "        </tr>\n",
              "        <tr>\n",
              "            <td>F9 v1.1 B1012</td>\n",
              "            <td>2395</td>\n",
              "        </tr>\n",
              "        <tr>\n",
              "            <td>F9 v1.1 B1013</td>\n",
              "            <td>570</td>\n",
              "        </tr>\n",
              "        <tr>\n",
              "            <td>F9 v1.1 B1014</td>\n",
              "            <td>4159</td>\n",
              "        </tr>\n",
              "        <tr>\n",
              "            <td>F9 v1.1 B1015</td>\n",
              "            <td>1898</td>\n",
              "        </tr>\n",
              "        <tr>\n",
              "            <td>F9 v1.1 B1016</td>\n",
              "            <td>4707</td>\n",
              "        </tr>\n",
              "        <tr>\n",
              "            <td>F9 v1.1 B1017</td>\n",
              "            <td>553</td>\n",
              "        </tr>\n",
              "        <tr>\n",
              "            <td>F9 v1.1 B1018</td>\n",
              "            <td>1952</td>\n",
              "        </tr>\n",
              "    </tbody>\n",
              "</table>"
            ],
            "text/plain": [
              "[('F9 B4  B1039.2', 2647),\n",
              " ('F9 B4  B1040.2', 5384),\n",
              " ('F9 B4  B1041.2', 9600),\n",
              " ('F9 B4  B1043.2', 6460),\n",
              " ('F9 B4 B1039.1', 3310),\n",
              " ('F9 B4 B1040.1', 4990),\n",
              " ('F9 B4 B1041.1', 9600),\n",
              " ('F9 B4 B1042.1', 3500),\n",
              " ('F9 B4 B1043.1', 5000),\n",
              " ('F9 B4 B1044', 6092),\n",
              " ('F9 B4 B1045.1', 362),\n",
              " ('F9 B4 B1045.2', 2697),\n",
              " ('F9 B5  B1046.1', 3600),\n",
              " ('F9 B5 B1046.2', 5800),\n",
              " ('F9 B5 B1046.3', 4000),\n",
              " ('F9 B5 B1046.4', 12050),\n",
              " ('F9 B5 B1047.2', 5300),\n",
              " ('F9 B5 B1047.3', 6500),\n",
              " ('F9 B5 B1048.2', 3000),\n",
              " ('F9 B5 B1048.3', 4850),\n",
              " ('F9 B5 B1048.4', 15600),\n",
              " ('F9 B5 B1048.5', 15600),\n",
              " ('F9 B5 B1049.2', 9600),\n",
              " ('F9 B5 B1049.3', 13620),\n",
              " ('F9 B5 B1049.4', 15600),\n",
              " ('F9 B5 B1049.5', 15600),\n",
              " ('F9 B5 B1049.6', 15440),\n",
              " ('F9 B5 B1049.7', 15600),\n",
              " ('F9 B5 B1051.2', 4200),\n",
              " ('F9 B5 B1051.3', 15600),\n",
              " ('F9 B5 B1051.4', 15600),\n",
              " ('F9 B5 B1051.5', 14932),\n",
              " ('F9 B5 B1051.6', 15600),\n",
              " ('F9 B5 B1056.2', 2268),\n",
              " ('F9 B5 B1056.3', 6956),\n",
              " ('F9 B5 B1056.4', 15600),\n",
              " ('F9 B5 B1058.2', 5500),\n",
              " ('F9 B5 B1058.3', 15600),\n",
              " ('F9 B5 B1058.4', 2972),\n",
              " ('F9 B5 B1059.2', 1977),\n",
              " ('F9 B5 B1059.3', 15410),\n",
              " ('F9 B5 B1059.4', 3130),\n",
              " ('F9 B5 B1060.2', 15600),\n",
              " ('F9 B5 B1060.3', 15600),\n",
              " ('F9 B5B1047.1', 7075),\n",
              " ('F9 B5B1048.1', 9600),\n",
              " ('F9 B5B1049.1', 7060),\n",
              " ('F9 B5B1050', 2500),\n",
              " ('F9 B5B1051.1', 12055),\n",
              " ('F9 B5B1054', 4400),\n",
              " ('F9 B5B1056.1', 2495),\n",
              " ('F9 B5B1058.1', 12530),\n",
              " ('F9 B5B1059.1', 2617),\n",
              " ('F9 B5B1060.1', 4311),\n",
              " ('F9 B5B1061.1', 12500),\n",
              " ('F9 B5B1062.1', 4311),\n",
              " ('F9 B5B1063.1', 1192),\n",
              " ('F9 FT  B1021.2', 5300),\n",
              " ('F9 FT  B1029.2', 3669),\n",
              " ('F9 FT  B1031.2', 5200),\n",
              " ('F9 FT  B1032.2', 4230),\n",
              " ('F9 FT  B1035.2', 2205),\n",
              " ('F9 FT  B1036.2', 9600),\n",
              " ('F9 FT  B1038.2', 2150),\n",
              " ('F9 FT B1019', 2034),\n",
              " ('F9 FT B1020', 5271),\n",
              " ('F9 FT B1021.1', 3136),\n",
              " ('F9 FT B1022', 4696),\n",
              " ('F9 FT B1023.1', 3100),\n",
              " ('F9 FT B1024', 3600),\n",
              " ('F9 FT B1025.1', 2257),\n",
              " ('F9 FT B1026', 4600),\n",
              " ('F9 FT B1029.1', 9600),\n",
              " ('F9 FT B1030', 5600),\n",
              " ('F9 FT B1031.1', 2490),\n",
              " ('F9 FT B1032.1', 5300),\n",
              " ('F9 FT B1034', 6070),\n",
              " ('F9 FT B1035.1', 2708),\n",
              " ('F9 FT B1036.1', 9600),\n",
              " ('F9 FT B1037', 6761),\n",
              " ('F9 FT B1038.1', 475),\n",
              " ('F9 v1.0  B0003', 0),\n",
              " ('F9 v1.0  B0004', 0),\n",
              " ('F9 v1.0  B0005', 525),\n",
              " ('F9 v1.0  B0006', 500),\n",
              " ('F9 v1.0  B0007', 677),\n",
              " ('F9 v1.1', 4535),\n",
              " ('F9 v1.1  B1003', 500),\n",
              " ('F9 v1.1 B1010', 2216),\n",
              " ('F9 v1.1 B1011', 4428),\n",
              " ('F9 v1.1 B1012', 2395),\n",
              " ('F9 v1.1 B1013', 570),\n",
              " ('F9 v1.1 B1014', 4159),\n",
              " ('F9 v1.1 B1015', 1898),\n",
              " ('F9 v1.1 B1016', 4707),\n",
              " ('F9 v1.1 B1017', 553),\n",
              " ('F9 v1.1 B1018', 1952)]"
            ]
          },
          "metadata": {},
          "execution_count": 36
        }
      ]
    },
    {
      "cell_type": "markdown",
      "metadata": {
        "id": "17J6hu-w9EIi"
      },
      "source": [
        "### Task 9\n",
        "\n",
        "##### List the failed landing_outcomes in drone ship, their booster versions, and launch site names for in year 2015\n"
      ]
    },
    {
      "cell_type": "code",
      "metadata": {
        "id": "pxvlnHej9EIi",
        "colab": {
          "base_uri": "https://localhost:8080/",
          "height": 115
        },
        "outputId": "b5915c99-3829-4ff1-84fd-12342653c095"
      },
      "source": [
        "%sql select DATE, LANDING__OUTCOME, BOOSTER_VERSION, LAUNCH_SITE from SPACEXTBL where DATE like '2015%' and LANDING__OUTCOME='Failure (drone ship)'"
      ],
      "execution_count": 35,
      "outputs": [
        {
          "output_type": "stream",
          "name": "stdout",
          "text": [
            " * ibm_db_sa://khp70687:***@55fbc997-9266-4331-afd3-888b05e734c0.bs2io90l08kqb1od8lcg.databases.appdomain.cloud:31929/bludb\n",
            "Done.\n"
          ]
        },
        {
          "output_type": "execute_result",
          "data": {
            "text/html": [
              "<table>\n",
              "    <thead>\n",
              "        <tr>\n",
              "            <th>DATE</th>\n",
              "            <th>landing__outcome</th>\n",
              "            <th>booster_version</th>\n",
              "            <th>launch_site</th>\n",
              "        </tr>\n",
              "    </thead>\n",
              "    <tbody>\n",
              "        <tr>\n",
              "            <td>2015-01-10</td>\n",
              "            <td>Failure (drone ship)</td>\n",
              "            <td>F9 v1.1 B1012</td>\n",
              "            <td>CCAFS LC-40</td>\n",
              "        </tr>\n",
              "        <tr>\n",
              "            <td>2015-04-14</td>\n",
              "            <td>Failure (drone ship)</td>\n",
              "            <td>F9 v1.1 B1015</td>\n",
              "            <td>CCAFS LC-40</td>\n",
              "        </tr>\n",
              "    </tbody>\n",
              "</table>"
            ],
            "text/plain": [
              "[(datetime.date(2015, 1, 10), 'Failure (drone ship)', 'F9 v1.1 B1012', 'CCAFS LC-40'),\n",
              " (datetime.date(2015, 4, 14), 'Failure (drone ship)', 'F9 v1.1 B1015', 'CCAFS LC-40')]"
            ]
          },
          "metadata": {},
          "execution_count": 35
        }
      ]
    },
    {
      "cell_type": "markdown",
      "metadata": {
        "id": "ttuoxsPV9EIj"
      },
      "source": [
        "### Task 10\n",
        "\n",
        "##### Rank the count of landing outcomes (such as Failure (drone ship) or Success (ground pad)) between the date 2010-06-04 and 2017-03-20, in descending order\n"
      ]
    },
    {
      "cell_type": "code",
      "metadata": {
        "id": "J2mYZBaq9EIj",
        "colab": {
          "base_uri": "https://localhost:8080/",
          "height": 238
        },
        "outputId": "9ea7ce72-b7ca-4bfe-93aa-313f4f47ae6e"
      },
      "source": [
        "%sql select LANDING__OUTCOME, count(LANDING__OUTCOME) from (select * from SPACEXTBL where DATE between '2010-06-02' and  '2017-03-20')   group by LANDING__OUTCOME order by count(LANDING__OUTCOME) desc"
      ],
      "execution_count": 57,
      "outputs": [
        {
          "output_type": "stream",
          "name": "stdout",
          "text": [
            " * ibm_db_sa://khp70687:***@55fbc997-9266-4331-afd3-888b05e734c0.bs2io90l08kqb1od8lcg.databases.appdomain.cloud:31929/bludb\n",
            "Done.\n"
          ]
        },
        {
          "output_type": "execute_result",
          "data": {
            "text/html": [
              "<table>\n",
              "    <thead>\n",
              "        <tr>\n",
              "            <th>landing__outcome</th>\n",
              "            <th>2</th>\n",
              "        </tr>\n",
              "    </thead>\n",
              "    <tbody>\n",
              "        <tr>\n",
              "            <td>No attempt</td>\n",
              "            <td>10</td>\n",
              "        </tr>\n",
              "        <tr>\n",
              "            <td>Failure (drone ship)</td>\n",
              "            <td>5</td>\n",
              "        </tr>\n",
              "        <tr>\n",
              "            <td>Success (drone ship)</td>\n",
              "            <td>5</td>\n",
              "        </tr>\n",
              "        <tr>\n",
              "            <td>Controlled (ocean)</td>\n",
              "            <td>3</td>\n",
              "        </tr>\n",
              "        <tr>\n",
              "            <td>Success (ground pad)</td>\n",
              "            <td>3</td>\n",
              "        </tr>\n",
              "        <tr>\n",
              "            <td>Failure (parachute)</td>\n",
              "            <td>2</td>\n",
              "        </tr>\n",
              "        <tr>\n",
              "            <td>Uncontrolled (ocean)</td>\n",
              "            <td>2</td>\n",
              "        </tr>\n",
              "        <tr>\n",
              "            <td>Precluded (drone ship)</td>\n",
              "            <td>1</td>\n",
              "        </tr>\n",
              "    </tbody>\n",
              "</table>"
            ],
            "text/plain": [
              "[('No attempt', 10),\n",
              " ('Failure (drone ship)', 5),\n",
              " ('Success (drone ship)', 5),\n",
              " ('Controlled (ocean)', 3),\n",
              " ('Success (ground pad)', 3),\n",
              " ('Failure (parachute)', 2),\n",
              " ('Uncontrolled (ocean)', 2),\n",
              " ('Precluded (drone ship)', 1)]"
            ]
          },
          "metadata": {},
          "execution_count": 57
        }
      ]
    },
    {
      "cell_type": "markdown",
      "metadata": {
        "id": "DfVKZu409EIj"
      },
      "source": [
        "### Reference Links\n",
        "\n",
        "*   <a href =\"https://cf-courses-data.s3.us.cloud-object-storage.appdomain.cloud/IBMDeveloperSkillsNetwork-DB0201EN-SkillsNetwork/labs/Labs_Coursera_V5/labs/Lab%20-%20String%20Patterns%20-%20Sorting%20-%20Grouping/instructional-labs.md.html?utm_medium=Exinfluencer&utm_source=Exinfluencer&utm_content=000026UJ&utm_term=10006555&utm_id=NA-SkillsNetwork-Channel-SkillsNetworkCoursesIBMDS0321ENSkillsNetwork26802033-2021-01-01&origin=www.coursera.org\">Hands-on Lab : String Patterns, Sorting and Grouping</a>\n",
        "\n",
        "*   <a  href=\"https://cf-courses-data.s3.us.cloud-object-storage.appdomain.cloud/IBMDeveloperSkillsNetwork-DB0201EN-SkillsNetwork/labs/Labs_Coursera_V5/labs/Lab%20-%20Built-in%20functions%20/Hands-on_Lab__Built-in_Functions.md.html?utm_medium=Exinfluencer&utm_source=Exinfluencer&utm_content=000026UJ&utm_term=10006555&utm_id=NA-SkillsNetwork-Channel-SkillsNetworkCoursesIBMDS0321ENSkillsNetwork26802033-2021-01-01&origin=www.coursera.org\">Hands-on Lab: Built-in functions</a>\n",
        "\n",
        "*   <a  href=\"https://cf-courses-data.s3.us.cloud-object-storage.appdomain.cloud/IBMDeveloperSkillsNetwork-DB0201EN-SkillsNetwork/labs/Labs_Coursera_V5/labs/Lab%20-%20Sub-queries%20and%20Nested%20SELECTs%20/instructional-labs.md.html?utm_medium=Exinfluencer&utm_source=Exinfluencer&utm_content=000026UJ&utm_term=10006555&utm_id=NA-SkillsNetwork-Channel-SkillsNetworkCoursesIBMDS0321ENSkillsNetwork26802033-2021-01-01&origin=www.coursera.org\">Hands-on Lab : Sub-queries and Nested SELECT Statements</a>\n",
        "\n",
        "*   <a href=\"https://cf-courses-data.s3.us.cloud-object-storage.appdomain.cloud/IBMDeveloperSkillsNetwork-DB0201EN-SkillsNetwork/labs/Module%205/DB0201EN-Week3-1-3-SQLmagic.ipynb?utm_medium=Exinfluencer&utm_source=Exinfluencer&utm_content=000026UJ&utm_term=10006555&utm_id=NA-SkillsNetwork-Channel-SkillsNetworkCoursesIBMDS0321ENSkillsNetwork26802033-2021-01-01\">Hands-on Tutorial: Accessing Databases with SQL magic</a>\n",
        "\n",
        "*   <a href= \"https://cf-courses-data.s3.us.cloud-object-storage.appdomain.cloud/IBMDeveloperSkillsNetwork-DB0201EN-SkillsNetwork/labs/Module%205/DB0201EN-Week3-1-4-Analyzing.ipynb?utm_medium=Exinfluencer&utm_source=Exinfluencer&utm_content=000026UJ&utm_term=10006555&utm_id=NA-SkillsNetwork-Channel-SkillsNetworkCoursesIBMDS0321ENSkillsNetwork26802033-2021-01-01\">Hands-on Lab: Analyzing a real World Data Set</a>\n"
      ]
    },
    {
      "cell_type": "markdown",
      "metadata": {
        "id": "mI6cg0w-9EIj"
      },
      "source": [
        "## Author(s)\n",
        "\n",
        "<h4> Lakshmi Holla </h4>\n"
      ]
    },
    {
      "cell_type": "markdown",
      "metadata": {
        "id": "D4m8TUbi9EIj"
      },
      "source": [
        "## Other Contributors\n",
        "\n",
        "<h4> Rav Ahuja </h4>\n"
      ]
    },
    {
      "cell_type": "markdown",
      "metadata": {
        "id": "xiefgXd09EIk"
      },
      "source": [
        "## Change log\n",
        "\n",
        "| Date       | Version | Changed by    | Change Description        |\n",
        "| ---------- | ------- | ------------- | ------------------------- |\n",
        "| 2021-10-12 | 0.4     | Lakshmi Holla | Changed markdown          |\n",
        "| 2021-08-24 | 0.3     | Lakshmi Holla | Added library update      |\n",
        "| 2021-07-09 | 0.2     | Lakshmi Holla | Changes made in magic sql |\n",
        "| 2021-05-20 | 0.1     | Lakshmi Holla | Created Initial Version   |\n"
      ]
    },
    {
      "cell_type": "markdown",
      "metadata": {
        "id": "BVppKwxL9EIk"
      },
      "source": [
        "## <h3 align=\"center\"> © IBM Corporation 2021. All rights reserved. <h3/>\n"
      ]
    }
  ]
}